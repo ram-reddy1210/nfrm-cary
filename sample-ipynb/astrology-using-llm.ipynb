{
 "cells": [
  {
   "cell_type": "markdown",
   "id": "astrology-intro",
   "metadata": {},
   "source": [
    "## Astrological Insights with Vertex AI\n",
    "\n",
    "Welcome! I am your AI-powered astrology expert. This notebook uses Vertex AI's Generative Models (like Gemini) to help you understand Kundalis (birth charts), generate summaries, create textual representations of Kundalis based on birth details, and get detailed explanations."
   ]
  },
  {
   "cell_type": "markdown",
   "id": "astrology-setup-title",
   "metadata": {},
   "source": [
    "### 1. Setup and Initialization"
   ]
  },
  {
   "cell_type": "code",
   "execution_count": null,
   "id": "astrology-install-sdk",
   "metadata": {},
   "outputs": [],
   "source": [
    "# Install the library if you haven't already\n",
    "#!pip install -q google-cloud-aiplatform PyPDF2\n",
    "# PyPDF2 is for reading text content from PDF files"
   ]
  },
  {
   "cell_type": "code",
   "execution_count": 1,
   "id": "astrology-init-vertexai",
   "metadata": {},
   "outputs": [
    {
     "name": "stdout",
     "output_type": "stream",
     "text": [
      "Vertex AI SDK initialized successfully for project: ai-agent-repo in location: us-east1\n"
     ]
    }
   ],
   "source": [
    "import os\n",
    "import google.auth\n",
    "import vertexai\n",
    "from vertexai.generative_models import GenerativeModel\n",
    "from IPython.display import Markdown, display\n",
    "\n",
    "# --- CONFIGURATION (Adapt from your environment) ---\n",
    "# IMPORTANT: VERIFY THIS PATH IS CORRECT and the JSON file is accessible.\n",
    "# This path is taken from your 'hindi-translation.ipynb'. \n",
    "# REPLACE WITH YOUR ACTUAL SERVICE ACCOUNT KEY FILE PATH IF DIFFERENT.\n",
    "try:\n",
    "    os.environ['GOOGLE_APPLICATION_CREDENTIALS'] = r'/Users/vinaykumar/.config/gcloud/ai-agent-repo-1456349a5589.json'\n",
    "    # Test if the file exists\n",
    "    if not os.path.exists(os.environ['GOOGLE_APPLICATION_CREDENTIALS']):\n",
    "        print(f\"WARNING: Credential file not found at {os.environ['GOOGLE_APPLICATION_CREDENTIALS']}\")\n",
    "        print(\"Please update the path to your service account key file.\")\n",
    "except Exception as e:\n",
    "    print(f\"Error setting GOOGLE_APPLICATION_CREDENTIALS: {e}\")\n",
    "\n",
    "# These details are taken from your 'hindi-translation.ipynb'.\n",
    "# Replace with your project ID if different.\n",
    "project_id = 'ai-agent-repo' \n",
    "# Replace with your desired location if different.\n",
    "location = \"us-east1\"      \n",
    "\n",
    "try:\n",
    "    # Initialize Vertex AI SDK\n",
    "    credentials, detected_project_id = google.auth.default()\n",
    "    vertexai.init(project=project_id, location=location, credentials=credentials)\n",
    "    print(f\"Vertex AI SDK initialized successfully for project: {project_id} in location: {location}\")\n",
    "except Exception as e:\n",
    "    print(f\"An error occurred during Vertex AI initialization: {e}\")\n",
    "    print(\"Please ensure your GOOGLE_APPLICATION_CREDENTIALS path is correct and the account has 'Vertex AI User' role.\")"
   ]
  },
  {
   "cell_type": "code",
   "execution_count": 2,
   "id": "astrology-init-model",
   "metadata": {},
   "outputs": [
    {
     "name": "stdout",
     "output_type": "stream",
     "text": [
      "GenerativeModel 'gemini-2.0-flash-001' initialized successfully.\n"
     ]
    }
   ],
   "source": [
    "# Using the model name from your hindi-translation.ipynb, feel free to change it.\n",
    "model_name = \"gemini-2.0-flash-001\"  # Or \"gemini-1.5-flash-001\", \"gemini-1.5-pro-001\", etc.\n",
    "global_model = None # Global variable to store the model\n",
    "\n",
    "try:\n",
    "    # Initialize the GenerativeModel\n",
    "    global_model = GenerativeModel(model_name)\n",
    "    print(f\"GenerativeModel '{model_name}' initialized successfully.\")\n",
    "except Exception as e:\n",
    "    print(f\"An error occurred during model initialization: {e}\")\n",
    "    print(\"This could be due to incorrect project setup, billing issues, or API enablement.\")"
   ]
  },
  {
   "cell_type": "markdown",
   "id": "astrology-helper-function-desc",
   "metadata": {},
   "source": [
    "### 2. Helper Function for LLM Interaction"
   ]
  },
  {
   "cell_type": "code",
   "execution_count": 3,
   "id": "astrology-llm-helper",
   "metadata": {},
   "outputs": [],
   "source": [
    "def get_llm_response(prompt: str, model: GenerativeModel) -> str:\n",
    "    \"\"\"\n",
    "    Sends a prompt to the GenerativeModel and returns the text response.\n",
    "\n",
    "    Args:\n",
    "        prompt: The prompt to send to the model.\n",
    "        model: The initialized Vertex AI GenerativeModel.\n",
    "\n",
    "    Returns:\n",
    "        The model's text response, or an error message if generation fails.\n",
    "    \"\"\"\n",
    "    if not model:\n",
    "        return \"Error: Model not initialized. Please check previous cells.\"\n",
    "    try:\n",
    "        response = model.generate_content(prompt)\n",
    "        # Accessing the translated text from the Gemini model's response\n",
    "        if response.candidates and response.candidates[0].content and response.candidates[0].content.parts:\n",
    "            return response.candidates[0].content.parts[0].text.strip()\n",
    "        elif hasattr(response, 'text'): # Fallback for some response structures\n",
    "             return response.text.strip()\n",
    "        else:\n",
    "            # Log the full response for debugging if parsing fails\n",
    "            print(f\"Debug: Full response object: {response}\")\n",
    "            return \"Error: Could not parse response from model. The response structure might have changed or be empty.\"\n",
    "    except Exception as e:\n",
    "        print(f\"An error occurred during LLM call: {e}\")\n",
    "        # It might be useful to see the prompt that caused the error\n",
    "        # print(f\"Problematic prompt: {prompt}\") # Uncomment for debugging\n",
    "        return f\"An error occurred during LLM call: {e}\""
   ]
  },
  {
   "cell_type": "markdown",
   "id": "astrology-create-kundali-desc",
   "metadata": {},
   "source": [
    "### 3. Create a Textual Kundali Representation\n",
    "\n",
    "Provide birth details, and the AI will generate a textual description and summary of the Kundali. This will not be a visual chart but a descriptive astrological interpretation."
   ]
  },
  {
   "cell_type": "code",
   "execution_count": 7,
   "id": "astrology-create-kundali-func",
   "metadata": {},
   "outputs": [],
   "source": [
    "def create_kundali_textual(name: str, date_of_birth: str, time_of_birth: str, place_of_birth: str, model: GenerativeModel) -> str:\n",
    "    \"\"\"\n",
    "    Generates a textual Kundali representation using the LLM.\n",
    "    \"\"\"\n",
    "    prompt = f\"\"\"You are an expert Vedic Astrologer.\n",
    "    Generate a textual Kundali (birth chart summary and interpretation) for the following individual:\n",
    "    Name: {name}\n",
    "    Date of Birth: {date_of_birth}\n",
    "    Time of Birth: {time_of_birth}\n",
    "    Place of Birth: {place_of_birth}\n",
    "\n",
    "    Please include:\n",
    "    1. Lagna (Ascendant) and its lord.\n",
    "    2. Positions of key planets (Sun, Moon, Mars, Mercury, Jupiter, Venus, Saturn, Rahu, Ketu) in signs and houses.\n",
    "    3. A brief interpretation of these placements and their general implications on personality and life areas.\n",
    "    4. Any significant yogas if discernible from the basic planetary positions.\n",
    "    Present this as a descriptive summary in english, not just a list of positions.\n",
    "    \"\"\"\n",
    "    \n",
    "    return get_llm_response(prompt, model)"
   ]
  },
  {
   "cell_type": "code",
   "execution_count": 9,
   "id": "astrology-create-kundali-example",
   "metadata": {},
   "outputs": [
    {
     "data": {
      "text/markdown": [
       "### Textual Kundali for Amit Parashar\n",
       "\n",
       "Okay, here's a Vedic astrological birth chart summary and interpretation for Amit Parashar, born on January 10, 1978, at 3:57 PM in Delhi, India. Please remember that this is a general reading based on the provided information, and a more detailed analysis requires consideration of divisional charts (Vargas), nakshatras, and other factors.\n",
       "\n",
       "**Kundali Summary for Amit Parashar**\n",
       "\n",
       "Based on the provided birth details, Amit's birth chart reveals the following:\n",
       "\n",
       "1.  **Lagna (Ascendant):** The Ascendant, the most important point in the chart, falls in **Libra**. This makes **Venus** the Lagna lord.\n",
       "\n",
       "2.  **Planetary Positions:**\n",
       "\n",
       "    *   **Sun:** The Sun is in **Sagittarius** in the **3rd house**.\n",
       "    *   **Moon:** The Moon is in **Cancer** in the **10th house**.\n",
       "    *   **Mars:** Mars is in **Gemini** in the **9th house**.\n",
       "    *   **Mercury:** Mercury is in **Sagittarius** in the **3rd house**.\n",
       "    *   **Jupiter:** Jupiter is in **Aries** in the **7th house**.\n",
       "    *   **Venus:** Venus is in **Sagittarius** in the **3rd house**.\n",
       "    *   **Saturn:** Saturn is in **Leo** in the **11th house**.\n",
       "    *   **Rahu:** Rahu is in **Cancer** in the **10th house**.\n",
       "    *   **Ketu:** Ketu is in **Capricorn** in the **4th house**.\n",
       "\n",
       "**Interpretation:**\n",
       "\n",
       "Amit's **Libra Ascendant** suggests a personality that values harmony, balance, and relationships.  He is likely to be diplomatic, charming, and have a natural inclination towards justice and fairness.  Venus, as the Lagna lord, influences his overall well-being, and the stronger Venus is in the chart, the better his life tends to be.\n",
       "\n",
       "The **Sun in Sagittarius in the 3rd house** indicates courage, initiative, and a strong desire for self-expression. He might be inclined towards writing, communication, or entrepreneurial ventures involving short journeys or siblings. A need to be recognized for his efforts and ideas is strong. It also suggests a philosophical bent in his communication. There may be some challenges in early education.\n",
       "\n",
       "The **Moon in Cancer in the 10th house** is a powerful placement. This gives him a strong emotional connection to his career and public image. He values security and recognition in his professional life and may be drawn to careers that involve nurturing, caregiving, or dealing with the public.  The Moon's presence in the 10th house also suggests a strong influence from his mother or maternal figures on his career choices and overall life path. However, emotional sensitivity at work is also something to manage.\n",
       "\n",
       "**Mars in Gemini in the 9th house** suggests an intellectual approach to higher knowledge, philosophy, and spirituality. He is likely to be curious, communicative, and enjoy debates and discussions.  He may also be interested in foreign cultures and travel. Potential for conflict in belief systems or disagreement with gurus is possible. There may be some hurdles related to luck and fortune.\n",
       "\n",
       "**Mercury in Sagittarius in the 3rd house** reinforces the communicative and intellectual themes. Amit is likely to be quick-witted, articulate, and enjoy learning and sharing his knowledge.  This placement also suggests a talent for teaching, writing, or public speaking. The combination with Sun can make him argumentative or self-righteous in his communication style.\n",
       "\n",
       "**Jupiter in Aries in the 7th house** is a generally auspicious placement for marriage and partnerships. He is likely to be attracted to partners who are intelligent, optimistic, and spiritually inclined. Jupiter's influence here can bring blessings and good fortune through marriage and business partnerships. He is likely to be generous and supportive of his partner.\n",
       "\n",
       "**Venus in Sagittarius in the 3rd house** indicates a love for knowledge, travel, and adventure. He is likely to be attracted to partners who share his intellectual interests and are open to new experiences. Venus here can bring creativity and artistic talents related to communication and self-expression. This can give a good sense of aesthetic taste.\n",
       "\n",
       "**Saturn in Leo in the 11th house** suggests a need to work hard to achieve his goals and aspirations. Saturn's presence here can bring delays or obstacles, but ultimately, it can also lead to long-term success and recognition. He should be mindful of managing his social circle and friendships carefully. He may be attracted to older or more mature friends.\n",
       "\n",
       "**Rahu in Cancer in the 10th house** can create ambition and a desire for success in the public sphere. However, it can also bring challenges, unexpected events, and a feeling of dissatisfaction. He needs to be careful not to compromise his values or ethics in pursuit of his goals. Professionally, he could have unconventional or foreign connections.\n",
       "\n",
       "**Ketu in Capricorn in the 4th house** suggests detachment from material possessions and a deep sense of spirituality. He may feel less attached to his home or family and seek comfort in inner peace and self-reflection. Ketu here can also indicate past-life karma related to property, family, or early education.\n",
       "\n",
       "**Significant Yogas:**\n",
       "\n",
       "*   While a deeper analysis would be required, the presence of multiple planets (Sun, Mercury, Venus) in Sagittarius could potentially form a **Lakshmi Yoga** (or a similar Dhana Yoga) if the dispositor (Jupiter in this case) is well-placed. This would indicate wealth and prosperity.\n",
       "*   The Moon and Rahu combination creates a possibility of **Grahan Yoga**, which could cause mental distress and health issues if afflicted further by malefic influences.\n",
       "\n",
       "**General Implications:**\n",
       "\n",
       "Amit is likely to be a balanced individual with a strong intellectual and communicative ability. He values relationships and seeks harmony in his life. He is ambitious and desires success in his career, but he also needs to be mindful of balancing his emotional needs with his professional goals. He is philosophical and spiritual and is likely to be attracted to partners who share his interests.  He needs to be cautious in his ambition and ensure he is following an ethical path. Overall, his chart suggests a life of learning, growth, and potential for significant achievement with consistent effort and ethical conduct.\n",
       "\n",
       "**Important Note:**  This is a basic interpretation based on the provided information. A detailed analysis would require a thorough examination of the Navamsa (D9) chart, other divisional charts, planetary aspects, and dashas (planetary periods). Consult a qualified Vedic astrologer for a comprehensive reading."
      ],
      "text/plain": [
       "<IPython.core.display.Markdown object>"
      ]
     },
     "metadata": {},
     "output_type": "display_data"
    }
   ],
   "source": [
    "# Example: Create Kundali\n",
    "person_name = \"Amit Parashar\"\n",
    "dob = \"January 10, 1978\"\n",
    "tob = \"03:57 PM\"\n",
    "pob = \"Delhi India\"\n",
    "\n",
    "if global_model:\n",
    "    kundali_text_representation = create_kundali_textual(person_name, dob, tob, pob, global_model)\n",
    "    display(Markdown(f\"### Textual Kundali for {person_name}\\n\\n{kundali_text_representation}\"))\n",
    "else:\n",
    "    print(\"Model not initialized. Cannot create Kundali.\")"
   ]
  },
  {
   "cell_type": "markdown",
   "id": "astrology-summarize-kundali-desc",
   "metadata": {},
   "source": [
    "### 4. Summarize an Existing Kundali from a File\n",
    "\n",
    "This section allows you to get a summary of a Kundali if you have its details in a text file.\n",
    "\n",
    "**Instructions:**\n",
    "1. Create a folder named `sample-data` in the same directory where this notebook (`astrology.ipynb`) is located.\n",
    "2. Inside the `sample-data` folder, place a text file containing the Kundali details (e.g., `my_kundali_details.txt`). This file should contain textual information about planetary positions, ascendant, etc.\n",
    "3. Update the `kundali_file_name` variable in the cell below to match your file's name."
   ]
  },
  {
   "cell_type": "code",
   "execution_count": 12,
   "id": "astrology-summarize-kundali-func",
   "metadata": {},
   "outputs": [],
   "source": [
    "def summarize_kundali_from_file(file_path: str, model: GenerativeModel) -> str:\n",
    "    \"\"\"\n",
    "    Reads Kundali data from a text or PDF file and asks the LLM to summarize it.\n",
    "    \"\"\"\n",
    "    try:\n",
    "        kundali_content = \"\"\n",
    "        file_path_lower = file_path.lower()\n",
    "\n",
    "        if file_path_lower.endswith('.pdf'):\n",
    "            try:\n",
    "                import PyPDF2\n",
    "                with open(file_path, 'rb') as pdf_file_obj: # Open in binary read mode\n",
    "                    pdf_reader = PyPDF2.PdfReader(pdf_file_obj)\n",
    "                    for page_num in range(len(pdf_reader.pages)):\n",
    "                        page_obj = pdf_reader.pages[page_num]\n",
    "                        kundali_content += page_obj.extract_text()\n",
    "            except ImportError:\n",
    "                return \"Error: PyPDF2 library is not installed. Please run the cell with '!pip install PyPDF2' and try again.\"\n",
    "            except Exception as e:\n",
    "                return f\"Error reading PDF file '{file_path}': {e}. The PDF might be encrypted, corrupted, or image-based.\"\n",
    "        elif file_path_lower.endswith('.txt'):\n",
    "            with open(file_path, 'r', encoding='utf-8') as f:\n",
    "                kundali_content = f.read()\n",
    "        else:\n",
    "            return f\"Error: Unsupported file type for '{file_path}'. Please use .txt or .pdf files.\"\n",
    "\n",
    "        if not kundali_content.strip():\n",
    "            return \"Error: The Kundali file is empty or no text could be extracted.\"\n",
    "    except FileNotFoundError:\n",
    "        return f\"Error: File not found at {file_path}. Please ensure the 'sample-data' folder exists and contains the file.\"\n",
    "    except Exception as e:\n",
    "        return f\"An unexpected error occurred while processing file '{file_path}': {e}\"\n",
    "    \n",
    "    prompt = f\"\"\"You are an expert Vedic Astrologer.\n",
    "    Please summarize the key astrological insights from the following Kundali data in English. \n",
    "    Focus on the most significant planetary placements, the nature of the ascendant, and overall life themes indicated.\n",
    "    \n",
    "    Kundali Data:\n",
    "    --- START OF KUNDALI DATA ---\n",
    "    {kundali_content}\n",
    "    --- END OF KUNDALI DATA ---\n",
    "    \n",
    "    Provide a concise summary.\"\"\"\n",
    "    \n",
    "    return get_llm_response(prompt, model)"
   ]
  },
  {
   "cell_type": "code",
   "execution_count": 13,
   "id": "astrology-summarize-kundali-example",
   "metadata": {},
   "outputs": [
    {
     "data": {
      "text/markdown": [
       "### Summary for Kundali in 'Kundli_VINAY_KUMAR_CHAUBEY.pdf'\n",
       "\n",
       "Here's a summary of the key astrological insights from Vinay Kumar Chaubey's Kundali:\n",
       "\n",
       "*   **Ascendant and its Lord:** Vinay is a **Capricorn Ascendant**, ruled by **Saturn**. This makes him hardworking, disciplined, responsible, and patient. He possesses inner strength and ambition, though he may appear indifferent or detached to others. Success often comes later in life after sustained effort. He doesn't like working under someone.\n",
       "\n",
       "*   **Moon Sign:** His Moon is in **Taurus**, ruled by **Venus**. This indicates a practical and sensual nature, a love for comfort and beauty, and a need for security and stability. The Moon in Rohini Nakshatra further emphasizes his attractiveness and artistic inclinations, as well as a strong connection to his family and traditions.\n",
       "\n",
       "*   **Planetary Placements:**\n",
       "    *   A cluster of planets (Sun, Mercury, and Ascendant) in **Capricorn** reinforces the themes of career focus, ambition, and practicality.\n",
       "    *   The presence of **Mars** alongside the Moon in **Taurus** adds energy and drive to his emotions and desires. However, it may also cause some impulsiveness.\n",
       "    *   **Venus** is in **Sagittarius**, suggesting a love for freedom, exploration, and a philosophical approach to relationships.\n",
       "    *   **Jupiter** is in **Pisces**, indicating wisdom, compassion, and a strong spiritual inclination.\n",
       "    *   **Saturn** is in **Cancer**, which can cause emotional tension and difficulties in family matters.\n",
       "    *   **Rahu** is in **Libra** (retrograde), and **Ketu** is in **Aries** (retrograde), suggesting past life karmic patterns related to relationships, balance, and self-assertion.\n",
       "\n",
       "*   **Life Themes:** The Kundali suggests that Vinay's life will revolve around themes of career success, material security, family responsibilities, and the search for inner peace. He may face challenges in early life but will eventually achieve recognition and status through hard work and perseverance. He possesses leadership qualities and a desire to make a meaningful contribution to society. He needs to be mindful of emotional sensitivities and communication in relationships.\n",
       "\n",
       "*   **Relationships:** Vinay seeks a partner who is clever, beautiful, and supportive. He values trust and loyalty in relationships."
      ],
      "text/plain": [
       "<IPython.core.display.Markdown object>"
      ]
     },
     "metadata": {},
     "output_type": "display_data"
    }
   ],
   "source": [
    "# Example: Summarize Kundali from file\n",
    "# IMPORTANT: Create a 'sample-data' folder and put your kundali text file in it.\n",
    "# Then, update 'kundali_file_name' to your file's name.\n",
    "kundali_file_name = \"Kundli_VINAY_KUMAR_CHAUBEY.pdf\" # REPLACE with your actual file name\n",
    "sample_file_path = os.path.join(\"sample-data\", kundali_file_name)\n",
    "\n",
    "# Create a dummy file for demonstration if it doesn't exist\n",
    "if not os.path.exists(\"sample-data\"):\n",
    "    os.makedirs(\"sample-data\")\n",
    "if not os.path.exists(sample_file_path):\n",
    "    with open(sample_file_path, 'w', encoding='utf-8') as f:\n",
    "        f.write(\"Ascendant: Leo\\nSun in Leo in 1st House\\nMoon in Taurus in 10th House\\nMars in Scorpio in 4th House\\nBasic Kundali for demonstration.\")\n",
    "    print(f\"Created a dummy file at {sample_file_path} for demonstration. Replace it with your actual Kundali data.\")\n",
    "\n",
    "if global_model:\n",
    "    kundali_summary = summarize_kundali_from_file(sample_file_path, global_model)\n",
    "    display(Markdown(f\"### Summary for Kundali in '{kundali_file_name}'\\n\\n{kundali_summary}\"))\n",
    "else:\n",
    "    print(\"Model not initialized. Cannot summarize Kundali.\")"
   ]
  },
  {
   "cell_type": "markdown",
   "id": "astrology-explain-kundali-desc",
   "metadata": {},
   "source": [
    "### 5. Get a Detailed Explanation of a Kundali (approx. 500 words)\n",
    "\n",
    "Provide Kundali text (either from a file, generated by the function above, or pasted directly) for a more detailed explanation. The AI will aim for an explanation of approximately 500 words."
   ]
  },
  {
   "cell_type": "code",
   "execution_count": null,
   "id": "astrology-explain-kundali-func",
   "metadata": {},
   "outputs": [],
   "source": [
    "def explain_kundali_detailed(kundali_text: str, model: GenerativeModel, word_count: int = 500) -> str:\n",
    "    \"\"\"\n",
    "    Asks the LLM to explain the provided Kundali text in detail.\n",
    "    \"\"\"\n",
    "    if not kundali_text.strip():\n",
    "        return \"Error: Input Kundali text is empty.\"\n",
    "        \n",
    "    prompt = f\"\"\"You are an expert Vedic Astrologer.\n",
    "    Please provide a detailed explanation of the following Kundali in english. \n",
    "    Your explanation should be approximately {word_count} words.\n",
    "    Cover key aspects such as:\n",
    "    - The nature of the Lagna (Ascendant) and its lord.\n",
    "    - Strengths and weaknesses based on planetary placements in signs and houses.\n",
    "    - Influences of major planets (Sun, Moon, Mars, Mercury, Jupiter, Venus, Saturn, Rahu, Ketu).\n",
    "    - Important yogas (planetary combinations) and their effects.\n",
    "    - Potential life themes, character traits, strengths, and challenges indicated by the chart.\n",
    "    \n",
    "    Kundali Text to Analyze:\n",
    "    --- START OF KUNDALI TEXT ---\n",
    "    {kundali_text}\n",
    "    --- END OF KUNDALI TEXT ---\n",
    "    \n",
    "    Ensure the explanation is comprehensive, insightful, and maintains a professional astrological tone.\"\"\"\n",
    "    \n",
    "    return get_llm_response(prompt, model)"
   ]
  },
  {
   "cell_type": "code",
   "execution_count": null,
   "id": "astrology-explain-kundali-example",
   "metadata": {},
   "outputs": [],
   "source": [
    "# Example: Explain Kundali in detail\n",
    "# You can use the output from 'create_kundali_textual', \n",
    "# or load content from your 'sample_kundali.txt', or paste Kundali text here.\n",
    "\n",
    "sample_kundali_for_explanation = \"\"\n",
    "if 'kundali_text_representation' in globals() and kundali_text_representation.startswith(\"Error:\") is False:\n",
    "    sample_kundali_for_explanation = kundali_text_representation\n",
    "    print(\"Using the Kundali generated in step 3 for detailed explanation.\")\n",
    "else:\n",
    "    # Fallback to reading the sample file if the generated one is not available or errored\n",
    "    try:\n",
    "        with open(sample_file_path, 'r', encoding='utf-8') as f:\n",
    "            sample_kundali_for_explanation = f.read()\n",
    "        print(f\"Using Kundali data from '{sample_file_path}' for detailed explanation.\")\n",
    "    except Exception as e:\n",
    "        print(f\"Could not load Kundali from file for explanation: {e}\")\n",
    "        sample_kundali_for_explanation = \"Ascendant: Cancer, Moon in Cancer in 1st House. Sun in Aries in 10th House. Jupiter in Sagittarius in 6th House. Please provide a detailed analysis.\"\n",
    "        print(\"Using a default placeholder Kundali text for detailed explanation.\")\n",
    "\n",
    "if global_model and sample_kundali_for_explanation:\n",
    "    detailed_explanation = explain_kundali_detailed(sample_kundali_for_explanation, global_model, word_count=500)\n",
    "    display(Markdown(f\"### Detailed Kundali Explanation (approx. 500 words)\\n\\n{detailed_explanation}\"))\n",
    "elif not global_model:\n",
    "    print(\"Model not initialized. Cannot explain Kundali.\")\n",
    "else:\n",
    "    print(\"No Kundali data available for detailed explanation. Please run previous cells or provide data.\")"
   ]
  }
 ],
 "metadata": {
  "kernelspec": {
   "display_name": "Python 3 (ipykernel)",
   "language": "python",
   "name": "python3"
  },
  "language_info": {
   "codemirror_mode": {
    "name": "ipython",
    "version": 3
   },
   "file_extension": ".py",
   "mimetype": "text/x-python",
   "name": "python",
   "nbconvert_exporter": "python",
   "pygments_lexer": "ipython3",
   "version": "3.11.9"
  }
 },
 "nbformat": 4,
 "nbformat_minor": 5
}
